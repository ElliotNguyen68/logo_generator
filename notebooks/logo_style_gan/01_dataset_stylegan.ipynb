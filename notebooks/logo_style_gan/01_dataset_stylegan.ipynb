{
 "cells": [
  {
   "cell_type": "code",
   "execution_count": 2,
   "metadata": {},
   "outputs": [],
   "source": [
    "import sys\n",
    "sys.path.append('/var/DSTeam/locnt2/personal/')"
   ]
  },
  {
   "cell_type": "code",
   "execution_count": 46,
   "metadata": {},
   "outputs": [],
   "source": [
    "f=open('/var/DSTeam/locnt2/personal/logo_generator/data/label.txt')"
   ]
  },
  {
   "cell_type": "code",
   "execution_count": 47,
   "metadata": {},
   "outputs": [],
   "source": [
    "label_json={}"
   ]
  },
  {
   "cell_type": "code",
   "execution_count": 48,
   "metadata": {},
   "outputs": [],
   "source": [
    "image_labels=[]\n",
    "labels=[]\n",
    "list_file_names=[]\n",
    "for x in f:\n",
    "    # print(x)\n",
    "    image_name=x.split(';')[0]\n",
    "    class_label=eval(x.split(';')[1])[0]\n",
    "    \n",
    "    image_labels.append([image_name,class_label])\n",
    "    list_file_names.append(image_name)\n",
    "    labels.append(int(class_label))"
   ]
  },
  {
   "cell_type": "code",
   "execution_count": 29,
   "metadata": {},
   "outputs": [],
   "source": [
    "import json"
   ]
  },
  {
   "cell_type": "code",
   "execution_count": 30,
   "metadata": {},
   "outputs": [],
   "source": [
    "with open('/var/DSTeam/locnt2/personal/logo_generator/data/data_styleganv2/dataset.json', 'w') as fp:\n",
    "    json.dump(label_json, fp)\n"
   ]
  },
  {
   "cell_type": "code",
   "execution_count": 52,
   "metadata": {},
   "outputs": [
    {
     "data": {
      "text/plain": [
       "256"
      ]
     },
     "execution_count": 52,
     "metadata": {},
     "output_type": "execute_result"
    }
   ],
   "source": [
    "len(set(list_file_names))"
   ]
  },
  {
   "cell_type": "code",
   "execution_count": 49,
   "metadata": {},
   "outputs": [
    {
     "name": "stdout",
     "output_type": "stream",
     "text": [
      "Files are copied successfully\n"
     ]
    }
   ],
   "source": [
    "import os\n",
    "import shutil\n",
    "\n",
    "# Providing the folder path\n",
    "origin = '/var/DSTeam/locnt2/personal/logo_generator/data/LLD_favicons_full_png/'\n",
    "target = '/var/DSTeam/locnt2/personal/logo_generator/data/data_styleganv2/'\n",
    "\n",
    "# Fetching the list of all the files\n",
    "files = list_file_names\n",
    "\n",
    "# Fetching all the files to directory\n",
    "for file_name in files:\n",
    "   shutil.copy(origin+file_name, target+file_name)\n",
    "print(\"Files are copied successfully\")"
   ]
  },
  {
   "cell_type": "code",
   "execution_count": null,
   "metadata": {},
   "outputs": [],
   "source": [
    "image_labels=[]\n",
    "for x in f:\n",
    "    # print(x)\n",
    "    image_name=x.split(';')[0]\n",
    "    "
   ]
  }
 ],
 "metadata": {
  "kernelspec": {
   "display_name": "py38DL",
   "language": "python",
   "name": "python3"
  },
  "language_info": {
   "codemirror_mode": {
    "name": "ipython",
    "version": 3
   },
   "file_extension": ".py",
   "mimetype": "text/x-python",
   "name": "python",
   "nbconvert_exporter": "python",
   "pygments_lexer": "ipython3",
   "version": "3.8.16 (default, Jan 17 2023, 23:13:24) \n[GCC 11.2.0]"
  },
  "orig_nbformat": 4,
  "vscode": {
   "interpreter": {
    "hash": "0e69afbae31ca1d360031c3e8e3863c97e6ec78ed85a723f2bece66a9e2fa1a8"
   }
  }
 },
 "nbformat": 4,
 "nbformat_minor": 2
}
